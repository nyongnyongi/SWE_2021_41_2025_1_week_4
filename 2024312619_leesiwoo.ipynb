{
  "nbformat": 4,
  "nbformat_minor": 0,
  "metadata": {
    "colab": {
      "provenance": [],
      "include_colab_link": true
    },
    "kernelspec": {
      "name": "python3",
      "display_name": "Python 3"
    },
    "language_info": {
      "name": "python"
    }
  },
  "cells": [
    {
      "cell_type": "markdown",
      "metadata": {
        "id": "view-in-github",
        "colab_type": "text"
      },
      "source": [
        "<a href=\"https://colab.research.google.com/github/nyongnyongi/SWE_2021_41_2025_1_week_4/blob/main/2024312619_leesiwoo.ipynb\" target=\"_parent\"><img src=\"https://colab.research.google.com/assets/colab-badge.svg\" alt=\"Open In Colab\"/></a>"
      ]
    },
    {
      "cell_type": "markdown",
      "source": [
        "## Task\n",
        "- Complete **isHappy** function following the description below\n",
        "\n",
        "### Happy Number\n",
        "Write an algorithm to determine if a number **n** is happy.\n",
        "\n",
        "A **happy number** is a number defined by the following process:\n",
        "\n",
        "* Starting with any positive integer **n**, replace the number by the sum of the squares of its digits (refer to the testcase 1 below).\n",
        "* If we repeat the process, the number would reach 1 (where it will stay), or it would **loops endlessly in the cycle** without ever reaching 1.\n",
        "* Those numbers for which this process **ends in 1** are happy.\n",
        "\n",
        "Return **true** if n is a happy number, and **false** if not.\n",
        "\n",
        "Constraints:\n",
        "1. 1 <= n <= $2^{31}$ - 1\n",
        "2. Use Base-10 number system"
      ],
      "metadata": {
        "id": "TV3Socqg8BVl"
      }
    },
    {
      "cell_type": "code",
      "execution_count": null,
      "metadata": {
        "id": "5FcxitVf5kdQ",
        "outputId": "26a4e148-cd1e-4064-b1fc-0425f7b65067",
        "colab": {
          "base_uri": "https://localhost:8080/"
        }
      },
      "outputs": [
        {
          "output_type": "stream",
          "name": "stdout",
          "text": [
            "19\n",
            "82\n",
            "68\n",
            "100\n"
          ]
        },
        {
          "output_type": "execute_result",
          "data": {
            "text/plain": [
              "True"
            ]
          },
          "metadata": {},
          "execution_count": 15
        }
      ],
      "source": [
        "import sys\n",
        "sys.stdin.readline()\n",
        "\n",
        "def isHappy(n, s):\n",
        "  sum=0\n",
        "  while(n>0):\n",
        "    sum=sum+(n%10)**2\n",
        "    n=n//10\n",
        "  if(sum==1):\n",
        "    return True\n",
        "  if sum in s:\n",
        "    return False\n",
        "  s.append(sum)\n",
        "  print(sum)\n",
        "  return isHappy(sum,s)\n",
        "\n",
        "s=[]\n",
        "n=int(input())\n",
        "isHappy(n,s)\n",
        "\n",
        "\n"
      ]
    },
    {
      "cell_type": "code",
      "source": [
        "def test():\n",
        "  return"
      ],
      "metadata": {
        "id": "uWQRSMZZ4-l6"
      },
      "execution_count": null,
      "outputs": []
    },
    {
      "cell_type": "code",
      "source": [
        "print(test())"
      ],
      "metadata": {
        "id": "ONPjiTEF5NcW",
        "outputId": "2685e771-5b9f-448a-f81c-889f1f14c8a7",
        "colab": {
          "base_uri": "https://localhost:8080/"
        }
      },
      "execution_count": null,
      "outputs": [
        {
          "output_type": "stream",
          "name": "stdout",
          "text": [
            "None\n"
          ]
        }
      ]
    },
    {
      "cell_type": "markdown",
      "source": [
        "**Testcase 1.**\n",
        "\n",
        "**Input**: 19\n",
        "\n",
        "**Output**: True\n",
        "\n",
        "**Explanation**:\n",
        "\n",
        "$1^2 + 9^2 = 82$\n",
        "\n",
        "$8^2 + 2^2 = 68$\n",
        "\n",
        "$6^2 + 8^2 = 100$\n",
        "\n",
        "$1^2 + 0^2 + 0^2 = 1$\n",
        "\n",
        "$1^2 = 1$ (reached 1 and will not change)"
      ],
      "metadata": {
        "id": "eRrh24Ognrqf"
      }
    },
    {
      "cell_type": "markdown",
      "source": [
        "**Testcase 2.**\n",
        "\n",
        "**Input**: 16\n",
        "\n",
        "**Output**: False\n",
        "\n",
        "**Explanation**:\n",
        "\n",
        "$1^2 + 6^2 = 37$\n",
        "\n",
        "$3^2 + 7^2 = 58$\n",
        "\n",
        "$5^2 + 8^2 = 89$\n",
        "\n",
        "$8^2 + 9^2 = 145$\n",
        "\n",
        "$1^2 + 4^2 + 5^2 = 42$\n",
        "\n",
        "$4^2 + 2^2 = 20$\n",
        "\n",
        "$2^2 + 0^2 = 4$\n",
        "\n",
        "$4^2 = 16$\n",
        "\n",
        "$1^2 + 6^2 = 37$\n",
        "\n",
        "... (endless loop of 16 ➜ 37 ➜ 58 ➜ 89 ➜ 145 ➜ 42 ➜ 20 ➜ 4 ➜ 16)"
      ],
      "metadata": {
        "id": "dE7YMY8qoPoj"
      }
    }
  ]
}